{
 "cells": [
  {
   "cell_type": "markdown",
   "metadata": {},
   "source": [
    "# Histogram of Oriented Gradients"
   ]
  },
  {
   "cell_type": "markdown",
   "metadata": {},
   "source": [
    "In most cases presents better results than the CascadeClassifier"
   ]
  },
  {
   "cell_type": "markdown",
   "metadata": {},
   "source": [
    "## Concepts:"
   ]
  },
  {
   "cell_type": "markdown",
   "metadata": {},
   "source": [
    "We have some perdefined values for the image size:\n",
    "<br>\n",
    "\n",
    "> We have the oricinal image, which can be any size.\n",
    "<br>\n",
    "\n",
    "> We have to crop the image and the size is (100,200)\n",
    "<br>\n",
    "\n",
    "> We have to resize teh crop image after that to (64,128)"
   ]
  },
  {
   "cell_type": "markdown",
   "metadata": {},
   "source": [
    "![](figs/dimentions.png)"
   ]
  },
  {
   "cell_type": "markdown",
   "metadata": {},
   "source": [
    "### Derivative"
   ]
  },
  {
   "cell_type": "markdown",
   "metadata": {},
   "source": [
    "Masure the rate of the variation of the objects\n",
    "<br>\n",
    "\n",
    "We have:\n",
    "<br>\n",
    "\n",
    "_Zero derivative_\n",
    "<br>\n",
    "_Small derivative_\n",
    "<br>\n",
    "_High derivative_\n"
   ]
  },
  {
   "cell_type": "markdown",
   "metadata": {},
   "source": [
    "If the derivative is 0 or close to zero then is no variation in the image, or there is no color variation, for instance form a shade of yellow to a close shade of yellow, then the colors are almost the same."
   ]
  },
  {
   "cell_type": "markdown",
   "metadata": {},
   "source": [
    "If the derivative is small that means we are going from a shade of green to an other shade of green which are visible different."
   ]
  },
  {
   "cell_type": "markdown",
   "metadata": {},
   "source": [
    "If the derivative high that means the color are different."
   ]
  },
  {
   "cell_type": "markdown",
   "metadata": {},
   "source": [
    "### Gradiant vector"
   ]
  },
  {
   "cell_type": "markdown",
   "metadata": {},
   "source": [
    "Indicates the direction in which the values increase."
   ]
  },
  {
   "cell_type": "markdown",
   "metadata": {},
   "source": [
    "For instance, the gradiante vactor point upwards because there is the greatest variation in the colors (from yellow to gray). To make the variation we have to check all the surrounding pixels."
   ]
  },
  {
   "cell_type": "markdown",
   "metadata": {},
   "source": [
    "![](figs/variation.png)"
   ]
  },
  {
   "cell_type": "markdown",
   "metadata": {},
   "source": [
    "When there is no color variation the image will be painted black.\n",
    "<br>\n",
    "When there is color variation the connection between pixels is made, getting a similar image like:"
   ]
  },
  {
   "cell_type": "markdown",
   "metadata": {},
   "source": [
    "![](figs/pixels.png)"
   ]
  },
  {
   "cell_type": "markdown",
   "metadata": {},
   "source": [
    "So we can extract the edges of the image and consquantly identify the object based on the format.\n",
    "<br>\n",
    "The backgroud is blck because is no color variation in that area."
   ]
  },
  {
   "cell_type": "markdown",
   "metadata": {},
   "source": [
    "The nex image show the proces in an easy way:\n",
    "<br>\n",
    "![](figs/easy.png)\n",
    "<br>\n",
    "\n",
    "We select only that part of the had and we can see the arrows that points where the greatest variation in color."
   ]
  },
  {
   "cell_type": "markdown",
   "metadata": {},
   "source": [
    "# Next Step in the algorithm"
   ]
  },
  {
   "cell_type": "markdown",
   "metadata": {},
   "source": [
    "The histogram is consept of statistics used to counts the occurrences of elements in a givin class."
   ]
  },
  {
   "cell_type": "markdown",
   "metadata": {},
   "source": [
    "![](figs/matrix.png)"
   ]
  },
  {
   "cell_type": "markdown",
   "metadata": {},
   "source": [
    "As we can see we have some values in the left table ( Gradient Direction) and we have some values in the right table(Gradient Magnitude). We will have also an array for example as we can see on the bottom(Histogram Gradients)"
   ]
  },
  {
   "cell_type": "markdown",
   "metadata": {},
   "source": [
    "> The Histogram of Gradients, we have some values (0,20,40,...) and they indicates the degrees of inclination(the direction of the arrows).\n",
    "<br>\n",
    "\n",
    "> The Graditude Magnitude shows the changes in pixels. For example, the values of the top are small because this is small variation(the race track which is only greay)(in the middle of the matrix there are higher values, which indicates greter variantion, from the person head to the race track) those are form the previous image with only the head of the person.\n",
    "<br>\n",
    "\n",
    "> The Gradient"
   ]
  },
  {
   "cell_type": "markdown",
   "metadata": {},
   "source": [
    "To understand the Histogram we have to link those 2 matrix."
   ]
  },
  {
   "cell_type": "markdown",
   "metadata": {},
   "source": [
    "The blue arrow:\n",
    ">  The number 80 is linked with the number 2 from the second matrix. We will put 2 in that part of the histogram, which is related to the number 80, in that slot we will put all the values from that range. Another exame is the 86 from the row 6 and the column 1; We will check the corresponding position from the Gradient Magnitude matrix and we can see 196 so we would also put the number in the 80 slot from the Histogram of Gradients and we would add them (2+196=198)"
   ]
  },
  {
   "cell_type": "markdown",
   "metadata": {},
   "source": [
    "The red arrows:\n",
    "> We have a value of 10 degrees and the corresponding value is 4, and because we don't have 10in the Histogram of Gradients we will devide the value 4; and we will have 2 in the first slot and we will have 2 in the second slot."
   ]
  },
  {
   "cell_type": "markdown",
   "metadata": {},
   "source": [
    "After we will link all of the values we will generate the histogram:\n",
    "<br>\n",
    "\n",
    "![](figs/histogram.png)"
   ]
  },
  {
   "cell_type": "markdown",
   "metadata": {},
   "source": [
    "To find out if the image is a particular object that we want ot detect a comparison is made between this generated histogram and the original histogram of the image. For instance, if the goal is to detect faces we will compare the histogram of a face with the histogram of a bug. The histograms will be different, so the face will not be found. On the other hand, if we will send a face to the detector the histogram will be similar, and consequently the face will be found."
   ]
  },
  {
   "cell_type": "markdown",
   "metadata": {},
   "source": [
    "### Finally"
   ]
  },
  {
   "cell_type": "markdown",
   "metadata": {},
   "source": [
    "This image shows the vectors with the directions.\n",
    "<br>\n",
    "\n",
    "![](figs/vectors_direction.png)"
   ]
  },
  {
   "cell_type": "markdown",
   "metadata": {},
   "source": [
    "This images shows the final results of the HOG trainee and it is possible to see that some features are related to faces, such as the middle shape, mouth, the eyes and the nouse.\n",
    "<br>\n",
    "\n",
    "![](figs/tranee_results.png)"
   ]
  },
  {
   "cell_type": "markdown",
   "metadata": {},
   "source": [
    "This image shows the results of training a clock detector, and as we can see, some features are related to a clock.\n",
    "<br>\n",
    "\n",
    "![](figs/Clock_detector.png)\n"
   ]
  }
 ],
 "metadata": {
  "kernelspec": {
   "display_name": "Python 3.10.4 64-bit",
   "language": "python",
   "name": "python3"
  },
  "language_info": {
   "name": "python",
   "version": "3.10.6"
  },
  "orig_nbformat": 4,
  "vscode": {
   "interpreter": {
    "hash": "916dbcbb3f70747c44a77c7bcd40155683ae19c65e1c03b4aa3499c5328201f1"
   }
  }
 },
 "nbformat": 4,
 "nbformat_minor": 2
}
