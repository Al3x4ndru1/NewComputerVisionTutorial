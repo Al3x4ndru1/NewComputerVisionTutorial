{
 "cells": [
  {
   "cell_type": "markdown",
   "metadata": {},
   "source": [
    "# LBPH(Local Binary Patherns Histograms)"
   ]
  },
  {
   "cell_type": "markdown",
   "metadata": {},
   "source": [
    "![](figs/Screenshot%20from%202022-08-29%2017-29-55.png)"
   ]
  },
  {
   "cell_type": "markdown",
   "metadata": {},
   "source": [
    "The image represents a piece of image.\n",
    "<br>\n",
    "\n",
    "Let's implement the condition:"
   ]
  },
  {
   "cell_type": "code",
   "execution_count": null,
   "metadata": {
    "vscode": {
     "languageId": "javascript"
    }
   },
   "outputs": [],
   "source": [
    "if(v[i][j]>=8){\n",
    "    // casuta devine 1\n",
    "}\n",
    "else{\n",
    "    // casuta devine 2\n",
    "}"
   ]
  },
  {
   "cell_type": "markdown",
   "metadata": {},
   "source": [
    "The matrix after the condition:\n",
    "<br>\n",
    "\n",
    "![](figs/Dupa.png)"
   ]
  },
  {
   "cell_type": "markdown",
   "metadata": {},
   "source": [
    "The basic calculation of this alghorithm is to apply this condition, selecting the center element of the matrix.\n",
    "<br>\n",
    "\n",
    "Now we have to generate a binary value:\n",
    "<br>\n",
    "\n",
    "Binary: 11100010 // We are going to to start from the left top corner of the matrix and we are going to go to the right; \n",
    "                    after to the right bottom corner of the matrix;\n",
    "                    after to the left bottom corner of the matrix;\n",
    "                    and after to the right top corner of the matrix -1(the position where we started)\n",
    "\n",
    "Decimal: 226     // THe conversion of the binary value to a decimal value"
   ]
  },
  {
   "cell_type": "markdown",
   "metadata": {},
   "source": [
    "If we will put a flasklight on the image we will have a white image, that means the value of the matrix will increase, but the if the values of the matrix are low we will have a black image. The higher the values the brighter the image."
   ]
  },
  {
   "cell_type": "markdown",
   "metadata": {},
   "source": [
    "For this reason the algorithm have good results in dark or bright images. The next image represent a matrix of a lighter image, which has the value as the previous one.\n",
    "<br>\n",
    "\n",
    "![](figs/Dupa2.png)"
   ]
  },
  {
   "cell_type": "markdown",
   "metadata": {},
   "source": [
    "Is good in the bright or dark images because oance the middle values is changed all the pixels in the neigh will be changed as well. And when we will apply the algorithm again the result will be the same."
   ]
  },
  {
   "cell_type": "markdown",
   "metadata": {},
   "source": [
    "![](figs/example.png)"
   ]
  },
  {
   "cell_type": "markdown",
   "metadata": {},
   "source": [
    "Let's cosider the below image in order to understand how the algorithm will recognise a person face."
   ]
  },
  {
   "cell_type": "markdown",
   "metadata": {},
   "source": [
    "The alghorithm will create several squares as we can see in the below image. Whithim which one of these squares we have the representation of the previous light. Each pixel will represent a set of multiple pixels as we can see in the bottom image:\n",
    "<br>\n",
    "\n",
    "![](figs/pixels.png)"
   ]
  },
  {
   "cell_type": "markdown",
   "metadata": {},
   "source": [
    "Those are 3 x 4 matrix, which means we have 12 pixels in total for 1 square. We will apply the condition on each square consedering the center pixel."
   ]
  },
  {
   "cell_type": "markdown",
   "metadata": {},
   "source": [
    "The next step is to create a histogram, which will counts how many times each color appears in each square. The bottom image, represents the histogram:\n",
    "<br>\n",
    "\n",
    "![](figs/histogram.png)"
   ]
  },
  {
   "cell_type": "markdown",
   "metadata": {},
   "source": [
    "![](figs/More.png)"
   ]
  },
  {
   "cell_type": "markdown",
   "metadata": {},
   "source": [
    "In the below example we can see a more interesting representation. We can see the square and we can not that each square has a histogram. Based on the compression of the histograms the alghorithm will be able to recognise the edges and also teh corners of the images. As we can see in the next image:\n",
    "<br>\n",
    "\n",
    "![](figs/edge.png)"
   ]
  }
 ],
 "metadata": {
  "kernelspec": {
   "display_name": "Python 3.10.6 ('venv': venv)",
   "language": "python",
   "name": "python3"
  },
  "language_info": {
   "name": "python",
   "version": "3.10.6"
  },
  "orig_nbformat": 4,
  "vscode": {
   "interpreter": {
    "hash": "bbc4764cfd8ebf0f0ee3e5a28b917871ac532f6d99cc60556ba989f798926ca9"
   }
  }
 },
 "nbformat": 4,
 "nbformat_minor": 2
}
