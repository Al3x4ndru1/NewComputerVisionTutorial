{
 "cells": [
  {
   "cell_type": "markdown",
   "metadata": {},
   "source": [
    "The first part of the neuron in Artifical Neural Network we can call it as a balck box due to the complection processing that takes place. This is the placce that the data is processed. On the bottom we can see an example, using math to understand the actual process:"
   ]
  },
  {
   "cell_type": "markdown",
   "metadata": {},
   "source": [
    "![](figs/ArtificialNeural.png)"
   ]
  },
  {
   "cell_type": "markdown",
   "metadata": {},
   "source": [
    "On the background we can see the image of the neuron that we already know. And on the main we can see the image of an artificial neuron, whic is compose of a number of different parts."
   ]
  },
  {
   "cell_type": "markdown",
   "metadata": {},
   "source": [
    "1. First part\n",
    "Is the inputs which has the values: x1, x2, x3,...,xn\n",
    "\n",
    "\n",
    "2. Second part\n",
    "Is the weights, each component has a weight w1,w2,w3,...,wn"
   ]
  },
  {
   "cell_type": "markdown",
   "metadata": {},
   "source": [
    "The blackbox is compose of the Sum Function and the Activation Function.\n",
    "\n",
    "1. Sum Function\n",
    "\n",
    "Is represented by this matematical expression:\n",
    "<br>\n",
    "\n",
    "![](figs/MathFunction.png)\n",
    "\n",
    "<br>\n",
    "\n",
    "We multiply each value of X by the respective value of W. So we will calculate the sum by the multiplication of X * W.\n",
    "\n",
    "(X1 * W1) + (X2 * W2) + (X3 * W3) + ... +(Xn * Wn)"
   ]
  },
  {
   "cell_type": "markdown",
   "metadata": {},
   "source": [
    "2. Activation function\n",
    "\n",
    "![](figs/Activation.png)\n",
    "\n",
    "<br>\n",
    "\n",
    "Let's consider the example of a percentrom that has only 2 inputs, with the values 35 and 25, which are equivalent to x1 and x1. In this example, the X1 is the Age of the person and X2 is the number of the years that the person studied, or the educational background. Each of these has a weight 0.8 for age and 0.1 for educational."
   ]
  },
  {
   "cell_type": "markdown",
   "metadata": {},
   "source": [
    "Now we have to apply the Sum Function:\n",
    "\n",
    "sum = (35 * 0.8) + (25 * 0.1)\n",
    "\n",
    "sum = 28 + 2.5\n",
    "\n",
    "sum = 30.5"
   ]
  },
  {
   "cell_type": "markdown",
   "metadata": {},
   "source": [
    "Now we have the result of the Sum Function.\n",
    "We will apply the Activation Function, which will tell if the neuron was fired or not. In the other words, if the neuron was activated or not. The Synapse will cange the electical position/ the power of the neuron. The way to simulate that in the perceptron is to use the the weight, so the weights are considered as Synaps so we can change the electical potention of the neuron."
   ]
  },
  {
   "cell_type": "markdown",
   "metadata": {},
   "source": [
    "We are using the simplest Activation Function, the Step Function and the mathematical operation does the following:\n",
    "<br>\n",
    "\n",
    "![](figs/StepFunction.png)\n",
    "\n",
    "<br>\n",
    "\n",
    "If the return value, which is the sum of the previous step is greater or equal to 1 the result is 1, which indicates that the nuron has been activated, otherwise the result is 0.   "
   ]
  },
  {
   "cell_type": "markdown",
   "metadata": {},
   "source": [
    "This is also the final respons of the percepton, that means some kind of predection. So that means if the percepton returns 1 the person will have a salary increase and otherwise if the percepton returns 0 will not have a salary increase."
   ]
  },
  {
   "cell_type": "markdown",
   "metadata": {},
   "source": [
    "____________"
   ]
  },
  {
   "cell_type": "markdown",
   "metadata": {},
   "source": [
    "# Second example"
   ]
  },
  {
   "cell_type": "markdown",
   "metadata": {},
   "source": [
    "![](figs/Example%202.png)"
   ]
  },
  {
   "cell_type": "markdown",
   "metadata": {},
   "source": [
    "The only thing that we have changed is the the weight of the w1"
   ]
  },
  {
   "cell_type": "markdown",
   "metadata": {},
   "source": [
    "Now we are going to apply the Sum Function:\n",
    "<br>\n",
    "\n",
    "![](figs/Example2%20SUm.png)"
   ]
  },
  {
   "cell_type": "markdown",
   "metadata": {},
   "source": [
    "---------------------------------------------"
   ]
  },
  {
   "cell_type": "markdown",
   "metadata": {},
   "source": [
    "# Perceptron Definitions"
   ]
  },
  {
   "cell_type": "markdown",
   "metadata": {},
   "source": [
    "Pozitive weight - exciting synapse (the idea of increasing the electrical potential of the cell body, biological fundamental), more chances to activate the neuron\n",
    "<br>\n",
    "\n",
    "Negaitve weight - inhibitory synapse (the electrical potential is decreasing)\n",
    "<br>\n",
    "\n",
    "The weights are considered synapse and means the communication with neurons. And the communication is given by multiplying the inputs by the weights\n",
    "<br>\n",
    "\n",
    "Weights amplify or reduce the input signal\n",
    "<br>\n",
    "\n",
    "The knowledge of Neural Network is the weights. (The goal of a neural network is to lear the best weights that fits a data set)"
   ]
  },
  {
   "cell_type": "markdown",
   "metadata": {},
   "source": [
    "--------------------------------------------------------"
   ]
  },
  {
   "cell_type": "markdown",
   "metadata": {},
   "source": [
    "# Weights"
   ]
  },
  {
   "cell_type": "markdown",
   "metadata": {},
   "source": [
    "The goal the Neural Network is to find the best weights for a data set."
   ]
  },
  {
   "cell_type": "markdown",
   "metadata": {},
   "source": [
    "Our case study will be the \"And\" operator as is it in this tabe:\n",
    "<br>\n",
    "![](figs/And.png)"
   ]
  },
  {
   "cell_type": "markdown",
   "metadata": {},
   "source": [
    "We are going to train a Perceptron to detect this reletionships between values, after training we can give as inputs 2 numbers to the perceptron and has to be able to detect the right output."
   ]
  },
  {
   "cell_type": "markdown",
   "metadata": {},
   "source": [
    "We have the original table with the correct output and now we have to give as input to the percecptron each one of the instances of the data set, for instance as in the next image:\n",
    "<br>\n",
    "\n",
    "![](figs/AndExample.png)"
   ]
  },
  {
   "cell_type": "markdown",
   "metadata": {},
   "source": [
    "The weights have to be initializes and in the Neural Network this process is completly random, so we will initialize both weights with 0 as you can see in the image."
   ]
  },
  {
   "cell_type": "markdown",
   "metadata": {},
   "source": [
    "Next step is to apply Sum Function and then the Step Function:\n",
    "\n",
    "Sum Function: (0 * 0) + (0 * 0) = 0\n",
    "\n",
    "0 + 0 = 0\n",
    "\n",
    "\n",
    "Step Function: in this case the result will be 0 due to the fact that the result of the Sum Function 0."
   ]
  },
  {
   "cell_type": "markdown",
   "metadata": {},
   "source": [
    "Now we have to move to the next instances:\n",
    "<br>\n",
    "\n",
    "![](figs/NextStepAND.png)"
   ]
  },
  {
   "cell_type": "markdown",
   "metadata": {},
   "source": [
    "Let's apply the Sum Function:\n",
    "\n",
    "Sum Function: (0 * 0) + (1 * 0) = 0\n",
    "\n",
    "0 + 0 = 0"
   ]
  },
  {
   "cell_type": "markdown",
   "metadata": {},
   "source": [
    "We move to the next Instance, according to the table:\n",
    "<br>\n",
    "\n",
    "![](figs/Instance3.png)"
   ]
  },
  {
   "cell_type": "markdown",
   "metadata": {},
   "source": [
    "We will move to the next instance:\n",
    "<br>\n",
    "\n",
    "![](figs/Instance4.png)"
   ]
  },
  {
   "cell_type": "markdown",
   "metadata": {},
   "source": [
    "Now we have to compare the rezults with the table rezults. For the first 3 Instances the prediction is correct, but for the last one we have an error."
   ]
  },
  {
   "cell_type": "markdown",
   "metadata": {},
   "source": [
    "In this other table we have 3 columns, that are  Class, Prediction, Error:\n",
    "<br>\n",
    "\n",
    "![](figs/Prediction.png)"
   ]
  },
  {
   "cell_type": "markdown",
   "metadata": {},
   "source": [
    "We can do a simple subtraction to get the error.\n",
    "\n",
    "Error = Class - Prediction"
   ]
  },
  {
   "cell_type": "markdown",
   "metadata": {},
   "source": [
    "After the first rounds we have a value of 75% of correcting instances, 3 instances were correct while 1 instance was incorect."
   ]
  },
  {
   "cell_type": "markdown",
   "metadata": {},
   "source": [
    "Now we have to just adject the weights to be able to achive 100% correctness."
   ]
  },
  {
   "cell_type": "markdown",
   "metadata": {},
   "source": [
    "Now we are going to apply a formula to reduce the error:\n",
    "\n",
    "    weight(n + 1) = weight(n) + (learning_rate * input *  error)"
   ]
  },
  {
   "cell_type": "markdown",
   "metadata": {},
   "source": [
    "Learning rate is a verry important component into the Neural Network, it is usually fix and have its values between 0.1, 0.01 or 0.001. This parameters indicates the speed that the Neural Network will learn (How much the value of the weights will be changed). "
   ]
  },
  {
   "cell_type": "markdown",
   "metadata": {},
   "source": [
    "Now let's apply the formula"
   ]
  },
  {
   "cell_type": "markdown",
   "metadata": {},
   "source": [
    "We have selected the just the instance that was classified wrong:\n",
    "<br>\n",
    "\n",
    "![](figs/wrong.png)"
   ]
  },
  {
   "cell_type": "markdown",
   "metadata": {},
   "source": [
    "And now we need to apply the fromula for both x1 and x2."
   ]
  },
  {
   "cell_type": "markdown",
   "metadata": {},
   "source": [
    "Let's apply formula for x1:\n",
    "\n",
    "weight(n + 1) = weight(n) + (learning_rate * input *  error)\n",
    "\n",
    "weight(n+1) = 0 + (0.1 * 1 * 1)\n",
    "\n",
    "weight(n+1) = 0.1"
   ]
  },
  {
   "cell_type": "markdown",
   "metadata": {},
   "source": [
    "Let's apply formula for x2:\n",
    "\n",
    "weight(n + 1) = weight(n) + (learning_rate * input *  error)\n",
    "\n",
    "weight(n + 1) = 0 + (0.1 * 1 * 1)\n",
    "\n",
    "weight(n+1) = 0.1\n",
    "\n"
   ]
  },
  {
   "cell_type": "markdown",
   "metadata": {},
   "source": [
    "Now we are going to repete the exact same process as before, but using the new weights as you can see in the next image:\n",
    "<br>\n",
    "![](figs/NewWeights.png)"
   ]
  },
  {
   "cell_type": "markdown",
   "metadata": {},
   "source": [
    "As you can see the second Instance will give as 0, as well as the third Instance. \n",
    "\n",
    "Explication (for second Instance):\n",
    "\n",
    "Sum Function = 0 * 0.1 + 1 * 0.1\n",
    "\n",
    "Sum function = 0 + 0.1\n",
    "\n",
    "Sum function = 0.1\n",
    "\n",
    "and the Activation Function will give as 0 because the result of the Sum Function in not greater or equal than 1\n"
   ]
  },
  {
   "cell_type": "markdown",
   "metadata": {},
   "source": [
    "The fourth Instance will give us 0.2\n",
    "\n",
    "Explication:\n",
    "\n",
    "Sum Function = 1 * 0.1 + 1 * 0.1\n",
    "\n",
    "Sum Function = 0.1 + 0.1\n",
    "\n",
    "Sum Function = 0.2\n",
    "\n",
    "And the Activation Function will give us 0.2"
   ]
  },
  {
   "cell_type": "markdown",
   "metadata": {},
   "source": [
    "Let's use the error formula:\n",
    "<br>\n",
    "\n",
    "![](figs/Error.png)"
   ]
  },
  {
   "cell_type": "markdown",
   "metadata": {},
   "source": [
    "We have 75% correct."
   ]
  },
  {
   "cell_type": "markdown",
   "metadata": {},
   "source": [
    "It is important to understant that we are working with just 2 inputs for our example. If we are going to work with images each pixel will be an input, so if we have a 600*800 image we will have 480000 inputs in our Neural Network."
   ]
  },
  {
   "cell_type": "markdown",
   "metadata": {},
   "source": [
    "Now let's apply the formula for changing the weights. \n",
    "\n",
    "We have to apply for each x, so apply for x1 first:\n",
    "\n",
    "weight(n + 1) = weight(n) + (learning_rate * input *  error)\n",
    "\n",
    "weight(n + 1) = 0.1 + (0.1 * 1 * 1)\n",
    "\n",
    "weight(n + 1) = 0.1 + 0.1\n",
    "\n",
    "weight(n + 1) = 0.2\n",
    "\n",
    "<br>\n",
    "\n",
    "Let's apply for x2 now:\n",
    "\n",
    "weight(n + 1) = weight(n) + (learning_rate * input * error)\n",
    "\n",
    "weight(n + 1) = 0.1 + (0.1 * 1 * 1)\n",
    "\n",
    "weight(n + 1) = 0.1 + 0.1\n",
    "\n",
    "weight(n + 1) = 0.2"
   ]
  },
  {
   "cell_type": "markdown",
   "metadata": {},
   "source": [
    "Now the weights have been changed to 0.2 and we will have to performe exactly the same process as before."
   ]
  },
  {
   "cell_type": "markdown",
   "metadata": {},
   "source": [
    "Each one of this rounds is called \"_Epoch_\"."
   ]
  },
  {
   "cell_type": "markdown",
   "metadata": {},
   "source": [
    "Epoch is verry important term for Neural Networks, which indicated how many times the calculation needs to be performed in order to reduce the error"
   ]
  },
  {
   "cell_type": "markdown",
   "metadata": {},
   "source": [
    "You can see in the next image how the weights are changed to 0.5 :\n",
    "<br>\n",
    "\n",
    "![](figs/0.5.png)"
   ]
  },
  {
   "cell_type": "markdown",
   "metadata": {},
   "source": [
    "All of them will give us 0 except the last Instance, the fourth one."
   ]
  },
  {
   "cell_type": "markdown",
   "metadata": {},
   "source": [
    "Let's analyse the last Instance:\n",
    "\n",
    "1 * 0.5 + 1 * 0.5 => 0.5 + 0.5 => 1"
   ]
  },
  {
   "cell_type": "markdown",
   "metadata": {},
   "source": [
    "Now the Step Function will give us 1."
   ]
  },
  {
   "cell_type": "markdown",
   "metadata": {},
   "source": [
    "Errors, as you can see in the next image we have no error:\n",
    "<br>\n",
    "\n",
    "![](figs/100%25.png)"
   ]
  },
  {
   "cell_type": "markdown",
   "metadata": {},
   "source": [
    "----------------------------------------------------"
   ]
  },
  {
   "cell_type": "markdown",
   "metadata": {},
   "source": []
  },
  {
   "cell_type": "markdown",
   "metadata": {},
   "source": []
  },
  {
   "cell_type": "markdown",
   "metadata": {},
   "source": []
  },
  {
   "cell_type": "markdown",
   "metadata": {},
   "source": []
  },
  {
   "cell_type": "markdown",
   "metadata": {},
   "source": []
  },
  {
   "cell_type": "markdown",
   "metadata": {},
   "source": []
  },
  {
   "cell_type": "markdown",
   "metadata": {},
   "source": []
  },
  {
   "cell_type": "markdown",
   "metadata": {},
   "source": []
  }
 ],
 "metadata": {
  "kernelspec": {
   "display_name": "Python 3.10.6 64-bit",
   "language": "python",
   "name": "python3"
  },
  "language_info": {
   "name": "python",
   "version": "3.10.6"
  },
  "orig_nbformat": 4,
  "vscode": {
   "interpreter": {
    "hash": "916dbcbb3f70747c44a77c7bcd40155683ae19c65e1c03b4aa3499c5328201f1"
   }
  }
 },
 "nbformat": 4,
 "nbformat_minor": 2
}
