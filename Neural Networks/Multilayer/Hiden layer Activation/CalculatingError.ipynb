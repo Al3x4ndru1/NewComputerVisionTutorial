{
 "cells": [
  {
   "cell_type": "markdown",
   "metadata": {},
   "source": [
    "# Error (Loss Function)"
   ]
  },
  {
   "cell_type": "markdown",
   "metadata": {},
   "source": [
    "Now we are going to calculate the error using the simplest algorithm:\n",
    "\n",
    "Error = Correct - Prediction"
   ]
  },
  {
   "cell_type": "markdown",
   "metadata": {},
   "source": [
    "![](figsCalc/Calculated.png)"
   ]
  },
  {
   "cell_type": "markdown",
   "metadata": {},
   "source": [
    "Averege is: 0.499. Add all of them and covert the negative one to positive, after divide them by the number of instances."
   ]
  },
  {
   "cell_type": "markdown",
   "metadata": {},
   "source": [
    "The goal is reduce of the error"
   ]
  },
  {
   "cell_type": "markdown",
   "metadata": {},
   "source": [
    "We optained those prediction with random weights. We need to adjust the weights to try to reduce the error to the lowest possible value."
   ]
  }
 ],
 "metadata": {
  "kernelspec": {
   "display_name": "Python 3.10.6 ('venv': venv)",
   "language": "python",
   "name": "python3"
  },
  "language_info": {
   "name": "python",
   "version": "3.10.6"
  },
  "orig_nbformat": 4,
  "vscode": {
   "interpreter": {
    "hash": "bbc4764cfd8ebf0f0ee3e5a28b917871ac532f6d99cc60556ba989f798926ca9"
   }
  }
 },
 "nbformat": 4,
 "nbformat_minor": 2
}
