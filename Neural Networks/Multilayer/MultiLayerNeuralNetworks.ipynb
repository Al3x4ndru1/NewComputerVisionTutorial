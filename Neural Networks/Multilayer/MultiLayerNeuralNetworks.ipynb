{
 "cells": [
  {
   "cell_type": "markdown",
   "metadata": {},
   "source": [
    "# Multi Layer Neural Network"
   ]
  },
  {
   "cell_type": "markdown",
   "metadata": {},
   "source": [
    "A multi layer neura network is very similar with a single layer neural network (Perceptron).\n",
    "\n",
    "We have the inputs and we still have the Sum Function and the Activation function. After appling the Activation Function we have the output of the Neural Network that indictes a prediction."
   ]
  },
  {
   "cell_type": "markdown",
   "metadata": {},
   "source": [
    "## The Difference:"
   ]
  },
  {
   "cell_type": "markdown",
   "metadata": {},
   "source": [
    "We have an additional layer of neurons betweenthe Inputs and Oput(Sum Function and Activation). This layer is called \" **Hiden Layer** \""
   ]
  },
  {
   "cell_type": "markdown",
   "metadata": {},
   "source": [
    "![](figs2/MNormal.png)"
   ]
  },
  {
   "cell_type": "markdown",
   "metadata": {},
   "source": [
    "Each of the inputs is connected to each of the neurons in the Hidden Layer"
   ]
  },
  {
   "cell_type": "markdown",
   "metadata": {},
   "source": [
    "![](figs2/Connected.png)"
   ]
  },
  {
   "cell_type": "markdown",
   "metadata": {},
   "source": [
    "We also have the Sum Function and the Activation Function for each one of the neuron from the Hidden Layer."
   ]
  },
  {
   "cell_type": "markdown",
   "metadata": {},
   "source": [
    "For each one of the neuron form the Hidden Layer we are going to performe exactly the same calculation as the Perceptron.\n",
    "\n",
    "For instance, for the first neuron:\n",
    "\n",
    "1. Step 1:\n",
    "\n",
    "\n",
    "- We will multiply the value of X1 by the weight W1 and the X2 by the weight W2.\n",
    "\n",
    "- Applay the Sum Function.\n",
    "\n",
    "- Applay the Activation Function.\n",
    "\n",
    "Those are in order to have the final value in the neuron 1.\n",
    "\n",
    "2. Step 2:\n",
    "\n",
    "- We send the value to the rest of the neural network "
   ]
  },
  {
   "cell_type": "markdown",
   "metadata": {},
   "source": [
    "This hole process is called \"Feed-Forward\". Which is why this type of Network is called \"Feed-Forward Neural Networks\""
   ]
  },
  {
   "cell_type": "markdown",
   "metadata": {},
   "source": [
    "We can see also that the neurons from Hidden Layer are connected to the last neuron in the output of the layer and we also have a new weights, eah from each neuron in the Hidden Layer."
   ]
  }
 ],
 "metadata": {
  "kernelspec": {
   "display_name": "Python 3.10.6 64-bit",
   "language": "python",
   "name": "python3"
  },
  "language_info": {
   "name": "python",
   "version": "3.10.6"
  },
  "orig_nbformat": 4,
  "vscode": {
   "interpreter": {
    "hash": "916dbcbb3f70747c44a77c7bcd40155683ae19c65e1c03b4aa3499c5328201f1"
   }
  }
 },
 "nbformat": 4,
 "nbformat_minor": 2
}
