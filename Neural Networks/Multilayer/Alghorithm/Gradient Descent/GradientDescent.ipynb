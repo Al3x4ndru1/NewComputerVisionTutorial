{
 "cells": [
  {
   "cell_type": "markdown",
   "metadata": {},
   "source": [
    "# Gradient Descent"
   ]
  },
  {
   "cell_type": "markdown",
   "metadata": {},
   "source": [
    "![](figs/Gradient.png)"
   ]
  },
  {
   "cell_type": "markdown",
   "metadata": {},
   "source": [
    "We will asume that the weiths are initialized at the top of the figure, the higher the greaiter the error and the goal is to reach the bottom of the of the figure where the error is small. We can consider the whole part of the figure as the error value and it is called \"Gradient descent\"."
   ]
  },
  {
   "cell_type": "markdown",
   "metadata": {},
   "source": [
    "![](figs/Fig2.png)"
   ]
  },
  {
   "cell_type": "markdown",
   "metadata": {},
   "source": [
    "This image is similar, where we can see the error at the top and the arrow shows that the gaol is to reach allocation which has the smallest possible error.\n",
    "\n",
    "Note that this figure has several other points that are lower than the other, those are called local minimum and those have a good solution, but the goal is to reach the center, the most bottom point, which is called global minimum, where the error is less than the other points."
   ]
  },
  {
   "cell_type": "markdown",
   "metadata": {},
   "source": [
    "To know in what direction we should go we will use a matematical equations that will indicate the direction.\n",
    "\n",
    "We will have to calculate the **partial derivative** to move to the gradient direction"
   ]
  },
  {
   "cell_type": "markdown",
   "metadata": {},
   "source": [
    "![error](figs/ErrorGraph.png)"
   ]
  },
  {
   "cell_type": "markdown",
   "metadata": {},
   "source": [
    "Note that the highset point (the top) has the biggest error and the lowest point has the lowest error.\n",
    "\n",
    "**IMPORTANT** even at the lowest point the error is not equal to 0"
   ]
  },
  {
   "cell_type": "markdown",
   "metadata": {},
   "source": [
    "![](figs/Graph2.png)"
   ]
  },
  {
   "cell_type": "markdown",
   "metadata": {},
   "source": [
    "Local and Global min"
   ]
  },
  {
   "cell_type": "markdown",
   "metadata": {},
   "source": [
    "----------"
   ]
  },
  {
   "cell_type": "markdown",
   "metadata": {},
   "source": [
    "![](figs/Graph3.png)"
   ]
  },
  {
   "cell_type": "markdown",
   "metadata": {},
   "source": [
    "Let's assume that we are the green point and we can go to the left or to the right."
   ]
  },
  {
   "cell_type": "markdown",
   "metadata": {},
   "source": [
    "And what the calculation of the partial derivative is doing is to find that the direction, instead of right is going to the left."
   ]
  },
  {
   "cell_type": "markdown",
   "metadata": {},
   "source": [
    "So we will calculate the **slope of the curve** using partial derivatives"
   ]
  },
  {
   "cell_type": "markdown",
   "metadata": {},
   "source": [
    "we can take the y value from the Sigmoid Funtion, and put it into the new formula."
   ]
  },
  {
   "cell_type": "markdown",
   "metadata": {},
   "source": [
    "![](figs/Formula.png)"
   ]
  }
 ],
 "metadata": {
  "kernelspec": {
   "display_name": "Python 3.10.6 ('venv': venv)",
   "language": "python",
   "name": "python3"
  },
  "language_info": {
   "name": "python",
   "version": "3.10.6"
  },
  "orig_nbformat": 4,
  "vscode": {
   "interpreter": {
    "hash": "bbc4764cfd8ebf0f0ee3e5a28b917871ac532f6d99cc60556ba989f798926ca9"
   }
  }
 },
 "nbformat": 4,
 "nbformat_minor": 2
}
